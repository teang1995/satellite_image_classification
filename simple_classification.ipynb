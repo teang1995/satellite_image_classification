{
  "nbformat": 4,
  "nbformat_minor": 0,
  "metadata": {
    "colab": {
      "name": "simple_classification.ipynb",
      "provenance": [],
      "collapsed_sections": [],
      "authorship_tag": "ABX9TyN1jAfTtFS+8wN61tKKCKkl",
      "include_colab_link": true
    },
    "kernelspec": {
      "name": "python3",
      "display_name": "Python 3"
    },
    "accelerator": "GPU"
  },
  "cells": [
    {
      "cell_type": "markdown",
      "metadata": {
        "id": "view-in-github",
        "colab_type": "text"
      },
      "source": [
        "<a href=\"https://colab.research.google.com/github/teang1995/satellite_image_classification/blob/master/simple_classification.ipynb\" target=\"_parent\"><img src=\"https://colab.research.google.com/assets/colab-badge.svg\" alt=\"Open In Colab\"/></a>"
      ]
    },
    {
      "cell_type": "markdown",
      "metadata": {
        "id": "gZ5sp0gRnc4k",
        "colab_type": "text"
      },
      "source": [
        "**import Libraries**"
      ]
    },
    {
      "cell_type": "code",
      "metadata": {
        "id": "_VS8xDbZnS90",
        "colab_type": "code",
        "colab": {}
      },
      "source": [
        "import os\n",
        "import shutil\n",
        "from PIL import Image\n",
        "import torch\n",
        "from torch.utils.data import Dataset,DataLoader\n",
        "import numpy as np\n",
        "from torchvision import transforms as T\n",
        "import torchvision\n",
        "import cv2\n",
        "import sys\n",
        "from google.colab import drive\n",
        "import torch.nn as nn\n",
        "import torch.nn.functional as F\n",
        "import torch.optim as optim"
      ],
      "execution_count": 0,
      "outputs": []
    },
    {
      "cell_type": "markdown",
      "metadata": {
        "id": "CpDC-gb33LPH",
        "colab_type": "text"
      },
      "source": [
        "**check cuda**"
      ]
    },
    {
      "cell_type": "code",
      "metadata": {
        "id": "3mzmaapt2qUo",
        "colab_type": "code",
        "outputId": "df8cf741-f802-46c5-cf8c-1a0c58fd21d7",
        "colab": {
          "base_uri": "https://localhost:8080/",
          "height": 35
        }
      },
      "source": [
        "torch.cuda.is_available()"
      ],
      "execution_count": 0,
      "outputs": [
        {
          "output_type": "execute_result",
          "data": {
            "text/plain": [
              "True"
            ]
          },
          "metadata": {
            "tags": []
          },
          "execution_count": 6
        }
      ]
    },
    {
      "cell_type": "markdown",
      "metadata": {
        "id": "G68WKHa1hbyK",
        "colab_type": "text"
      },
      "source": [
        "**drive mount**"
      ]
    },
    {
      "cell_type": "code",
      "metadata": {
        "id": "kFMJWhbkgZFp",
        "colab_type": "code",
        "colab": {}
      },
      "source": [
        "drive.mount('/content/drive')"
      ],
      "execution_count": 0,
      "outputs": []
    },
    {
      "cell_type": "markdown",
      "metadata": {
        "id": "yOReAwtEn33a",
        "colab_type": "text"
      },
      "source": [
        "**Dataset Class**"
      ]
    },
    {
      "cell_type": "code",
      "metadata": {
        "id": "I9U_fQttn7XB",
        "colab_type": "code",
        "colab": {}
      },
      "source": [
        "class NWPU_RESISC45(Dataset):\n",
        "  '''\n",
        "  1. Satellite image dataset\n",
        "  2. 45 classes\n",
        "  '''\n",
        "  #initiallize my data , download\n",
        "  def __init__(self, root, data_list_file, phase = 'train',transform = None):\n",
        "    self.phase = phase\n",
        "    #요 부분 코드 수정 필요해보임!\n",
        "    #현재 data_list_file이 txt형식으로 돼있어보인다.\n",
        "    #나는 excel혹은 csv파일 꼴로 만들고 싶으니 그에 맞게 수정이 필요함.\n",
        "    with open(os.path.join(data_list_file), 'r') as fd:\n",
        "            imgs = fd.readlines()\n",
        "\n",
        "    imgs = [os.path.join(root, img[:-1]) for img in imgs]\n",
        "    self.imgs = np.random.permutation(imgs)\n",
        "    normalize = T.Normalize(mean=[0.5], std=[0.5])\n",
        "    self.transform = transform\n",
        "  #파일명은 현재 classname_000.jpg꼴로 돼있음.\n",
        "  #1.파일명에서 substring으로 label을 따올지\n",
        "  #2.csv파일을 작성시에 label을 따로 저장해둘지.\n",
        "  #를 결정한 후 getitem함수 수정 필요함.\n",
        "  def __getitem__(self,index):\n",
        "    sample = self.imgs[index]\n",
        "    imp_path = sample\n",
        "    data = Image.open(img_path)\n",
        "    #data = data.convert('L') #binary chaneel\n",
        "    data = self.transform(data)\n",
        "    label = \"label\" #수정 필요\n",
        "    return data.float(), label\n",
        "\n",
        "  def __len__(self):\n",
        "    return self.len"
      ],
      "execution_count": 0,
      "outputs": []
    },
    {
      "cell_type": "markdown",
      "metadata": {
        "id": "rJ9fwtvT0-IK",
        "colab_type": "text"
      },
      "source": [
        "**transform and Dataloader**"
      ]
    },
    {
      "cell_type": "code",
      "metadata": {
        "id": "FQD7CJZbu9Yg",
        "colab_type": "code",
        "colab": {}
      },
      "source": [
        "transform = T.Compose([transforms.ToTensor()])\n",
        "batch_size = 64\n",
        "classes = os.listdir(\"/content/drive/My Drive/NWPU-RESISC45\")\n",
        "\n",
        "trainset = NWPU_RESISC45(root = \"'''뭘 넣어야 하지'''\",split = 'train',transform = transform)\n",
        "trainloader = DataLoader(trainset,batch_size = batch_size)\n",
        "\n",
        "validationset = NWPU_RESISC45(root = \"'''뭘 넣어야 하지'''\",split = 'validation',transform = transform)\n",
        "validloader = DataLoader(validationset,batch_size = batch_size)\n",
        "testset = NWPU_RESISC45(root = \"'''뭘 넣어야 하지'''\",split = 'test',transform = transform)\n",
        "testloader = DataLoader(testset,batch_size = batch_size)"
      ],
      "execution_count": 0,
      "outputs": []
    },
    {
      "cell_type": "markdown",
      "metadata": {
        "id": "WLZ9oIdG2Y0K",
        "colab_type": "text"
      },
      "source": [
        "**VGGNET**"
      ]
    },
    {
      "cell_type": "code",
      "metadata": {
        "id": "yH18qYB72a9k",
        "colab_type": "code",
        "colab": {}
      },
      "source": [
        "class Net(nn.Module) :\n",
        "  def __init__(self):\n",
        "    super(Net,self).__init__()\n",
        "    self.conv = nn.Sequential(\n",
        "        #3 224 224\n",
        "        nn.Conv2d(3,64,3,padding = 1),nn.ReLU(),\n",
        "        nn.Conv2d(64,64,3,padding = 1),nn.ReLU(),\n",
        "        nn.MaxPool2d(2,2),\n",
        "        #64 112 112\n",
        "        nn.Conv2d(64, 128, 3, padding=1),nn.LeakyReLU(0.2),\n",
        "        nn.Conv2d(128, 128, 3, padding=1),nn.LeakyReLU(0.2),\n",
        "        nn.MaxPool2d(2, 2),\n",
        "        #128 56 56\n",
        "        nn.Conv2d(128, 256, 3, padding=1),nn.LeakyReLU(0.2),\n",
        "        nn.Conv2d(256, 256, 3, padding=1),nn.LeakyReLU(0.2),\n",
        "        nn.Conv2d(256, 256, 3, padding=1),nn.LeakyReLU(0.2),\n",
        "        nn.MaxPool2d(2, 2),\n",
        "        #256 28 28\n",
        "        nn.Conv2d(256, 512, 3, padding=1),nn.LeakyReLU(0.2),\n",
        "        nn.Conv2d(512, 512, 3, padding=1),nn.LeakyReLU(0.2),\n",
        "        nn.Conv2d(512, 512, 3, padding=1),nn.LeakyReLU(0.2),\n",
        "        nn.MaxPool2d(2, 2),\n",
        "        #512 14 14\n",
        "        nn.Conv2d(512, 512, 3, padding=1),nn.LeakyReLU(0.2),\n",
        "        nn.Conv2d(512, 512, 3, padding=1),nn.LeakyReLU(0.2),\n",
        "        nn.Conv2d(512, 512, 3, padding=1),nn.LeakyReLU(0.2),\n",
        "        nn.MaxPool2d(2, 2)\n",
        "    )\n",
        "        #512 7 7\n",
        "    self.fc1 = nn.Linear(512 * 7 * 7,4096)\n",
        "    self.fc2 = nn.Linear(4096,4096)\n",
        "    self.fc3 = nn.Linear(4096,45)\n",
        "\n",
        "  def forward(self,x):\n",
        "    features = self.conv(x)\n",
        "    x = x.view(features.size(0),-1)\n",
        "    x = fc1(x)\n",
        "    x = fc2(x)\n",
        "    x = fc3(x)\n",
        "    x = self.softmax(x)\n",
        "    return x\n",
        "#cuda사용 가능하면 gpu사용, 아니면 cpu로 연산\n",
        "device = torch.device(\"cuda:0\" if torch.cuda.is_available() else \"cpu\")\n",
        "\n",
        "net = Net()\n",
        "net = net.to(device)\n"
      ],
      "execution_count": 0,
      "outputs": []
    },
    {
      "cell_type": "markdown",
      "metadata": {
        "id": "Mgm6CK9spsLH",
        "colab_type": "text"
      },
      "source": [
        "**optimizer and loss function**"
      ]
    },
    {
      "cell_type": "code",
      "metadata": {
        "id": "-W5W7QLspuGy",
        "colab_type": "code",
        "colab": {}
      },
      "source": [
        "criterion = nn.CrossEntropyLoss().cuda()\n",
        "optimizer = optim.Adam(net.parameters(),lr = 0.00001)"
      ],
      "execution_count": 0,
      "outputs": []
    },
    {
      "cell_type": "markdown",
      "metadata": {
        "id": "_ONKWyQAvywH",
        "colab_type": "text"
      },
      "source": [
        "**Test and Validation**"
      ]
    },
    {
      "cell_type": "code",
      "metadata": {
        "id": "uhWxoeslv1GS",
        "colab_type": "code",
        "colab": {}
      },
      "source": [
        ""
      ],
      "execution_count": 0,
      "outputs": []
    },
    {
      "cell_type": "code",
      "metadata": {
        "id": "bH1JymNPwyT3",
        "colab_type": "code",
        "outputId": "7d9fa414-5802-45d3-f724-78c6057953ed",
        "colab": {
          "base_uri": "https://localhost:8080/",
          "height": 35
        }
      },
      "source": [
        "imgs = \"/content/drive/My Drive/dataset/Test\"\n"
      ],
      "execution_count": 0,
      "outputs": [
        {
          "output_type": "stream",
          "text": [
            "['b', 'c']\n"
          ],
          "name": "stdout"
        }
      ]
    }
  ]
}