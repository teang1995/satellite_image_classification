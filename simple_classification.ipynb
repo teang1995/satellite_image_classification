{
  "nbformat": 4,
  "nbformat_minor": 0,
  "metadata": {
    "colab": {
      "name": "simple_classification.ipynb",
      "provenance": [],
      "collapsed_sections": [],
      "authorship_tag": "ABX9TyMDx0A/o+nWON+xEu0SFbpv",
      "include_colab_link": true
    },
    "kernelspec": {
      "name": "python3",
      "display_name": "Python 3"
    },
    "accelerator": "GPU"
  },
  "cells": [
    {
      "cell_type": "markdown",
      "metadata": {
        "id": "view-in-github",
        "colab_type": "text"
      },
      "source": [
        "<a href=\"https://colab.research.google.com/github/teang1995/satellite_image_classification/blob/master/simple_classification.ipynb\" target=\"_parent\"><img src=\"https://colab.research.google.com/assets/colab-badge.svg\" alt=\"Open In Colab\"/></a>"
      ]
    },
    {
      "cell_type": "markdown",
      "metadata": {
        "id": "gZ5sp0gRnc4k",
        "colab_type": "text"
      },
      "source": [
        "**import Libraries**"
      ]
    },
    {
      "cell_type": "code",
      "metadata": {
        "id": "_VS8xDbZnS90",
        "colab_type": "code",
        "colab": {}
      },
      "source": [
        "import os\n",
        "import shutil\n",
        "from PIL import Image\n",
        "import torch\n",
        "from torch.utils.data import Dataset,DataLoader\n",
        "import numpy as np\n",
        "from torchvision import transforms as T\n",
        "import torchvision\n",
        "import cv2\n",
        "import sys\n",
        "from google.colab import drive\n",
        "import torch.nn as nn\n",
        "import torch.nn.functional as F\n",
        "import torch.optim as optim\n",
        "import pandas as pd"
      ],
      "execution_count": 0,
      "outputs": []
    },
    {
      "cell_type": "markdown",
      "metadata": {
        "id": "CpDC-gb33LPH",
        "colab_type": "text"
      },
      "source": [
        "**check cuda**"
      ]
    },
    {
      "cell_type": "code",
      "metadata": {
        "id": "3mzmaapt2qUo",
        "colab_type": "code",
        "outputId": "372c993c-8024-4498-a21a-80ffc7b29909",
        "colab": {
          "base_uri": "https://localhost:8080/",
          "height": 35
        }
      },
      "source": [
        "torch.cuda.is_available()"
      ],
      "execution_count": 2,
      "outputs": [
        {
          "output_type": "execute_result",
          "data": {
            "text/plain": [
              "True"
            ]
          },
          "metadata": {
            "tags": []
          },
          "execution_count": 2
        }
      ]
    },
    {
      "cell_type": "markdown",
      "metadata": {
        "id": "G68WKHa1hbyK",
        "colab_type": "text"
      },
      "source": [
        "**drive mount**"
      ]
    },
    {
      "cell_type": "code",
      "metadata": {
        "id": "kFMJWhbkgZFp",
        "colab_type": "code",
        "outputId": "932dc3c6-2010-42f4-9645-253fbcd4b52e",
        "colab": {
          "base_uri": "https://localhost:8080/",
          "height": 127
        }
      },
      "source": [
        "drive.mount('/content/drive')"
      ],
      "execution_count": 3,
      "outputs": [
        {
          "output_type": "stream",
          "text": [
            "Go to this URL in a browser: https://accounts.google.com/o/oauth2/auth?client_id=947318989803-6bn6qk8qdgf4n4g3pfee6491hc0brc4i.apps.googleusercontent.com&redirect_uri=urn%3aietf%3awg%3aoauth%3a2.0%3aoob&response_type=code&scope=email%20https%3a%2f%2fwww.googleapis.com%2fauth%2fdocs.test%20https%3a%2f%2fwww.googleapis.com%2fauth%2fdrive%20https%3a%2f%2fwww.googleapis.com%2fauth%2fdrive.photos.readonly%20https%3a%2f%2fwww.googleapis.com%2fauth%2fpeopleapi.readonly\n",
            "\n",
            "Enter your authorization code:\n",
            "··········\n",
            "Mounted at /content/drive\n"
          ],
          "name": "stdout"
        }
      ]
    },
    {
      "cell_type": "markdown",
      "metadata": {
        "id": "yOReAwtEn33a",
        "colab_type": "text"
      },
      "source": [
        "**Dataset Class**"
      ]
    },
    {
      "cell_type": "code",
      "metadata": {
        "id": "I9U_fQttn7XB",
        "colab_type": "code",
        "colab": {}
      },
      "source": [
        "class NWPU_RESISC45(Dataset):\n",
        "  '''\n",
        "  1. Satellite image dataset\n",
        "  2. 45 classes\n",
        "  '''\n",
        "  #initiallize my data , download\n",
        "  def __init__(self, root, phase = 'train',transform = None):\n",
        "    self.phase = phase\n",
        "    #요 부분 코드 수정 필요해보임!\n",
        "    #현재 data_list_file이 txt형식으로 돼있어보인다.\n",
        "    #나는 excel혹은 csv파일 꼴로 만들고 싶으니 그에 맞게 수정이 필요함.\n",
        "    #imgs = [os.path.join(root, img[:-1]) for img in imgs]\n",
        "    imgs = pd.read_csv(root) # csv파일의 한 행\n",
        "    self.img_list = [os.path.join(imgs[\"data_path\"][i]) for i in range(len(imgs))] #파일 경로로 리스트를 만듦.\n",
        "    self.label_list = [os.path.join(imgs[\"label\"][i]) for i in range(len(imgs))] #라벨 리스트를 만듦\n",
        "    #self.imgs = np.random.permutation(imgs) #shuffle = True로 대체될 것 같기도 함\n",
        "    normalize = T.Normalize(mean=[0.5], std=[0.5])\n",
        "    self.transform = transform\n",
        "  #csv파일에서 따오기로 결정\n",
        "  def __getitem__(self,index):\n",
        "    sample = self.img_list[index]\n",
        "    img_path = sample\n",
        "    data = Image.open(img_path)\n",
        "    #data = data.convert('L') #binary chaneel\n",
        "    data = self.transform(data)\n",
        "    label = self.label_list[index] \n",
        "    return data.float(), label\n",
        "\n",
        "  def __len__(self):\n",
        "    return len(self.img_list)"
      ],
      "execution_count": 0,
      "outputs": []
    },
    {
      "cell_type": "markdown",
      "metadata": {
        "id": "rJ9fwtvT0-IK",
        "colab_type": "text"
      },
      "source": [
        "**transform and Dataloader**"
      ]
    },
    {
      "cell_type": "code",
      "metadata": {
        "id": "FQD7CJZbu9Yg",
        "colab_type": "code",
        "colab": {}
      },
      "source": [
        "transform = T.Compose([T.Resize(224),T.ToTensor()])\n",
        "batch_size = 16\n",
        "classes = os.listdir(\"/content/drive/My Drive/NWPU-RESISC45\")\n",
        " \n",
        "trainset = NWPU_RESISC45(root = \"/content/drive/My Drive/train.csv\",phase = 'train',transform = transform)\n",
        "trainloader = DataLoader(trainset,batch_size = batch_size, shuffle = True)\n",
        "\n",
        "validationset = NWPU_RESISC45(root = \"/content/drive/My Drive/validation.csv\",phase = 'validation',transform = transform)\n",
        "validloader = DataLoader(validationset, batch_size = batch_size, shuffle = True)\n",
        "\n",
        "testset = NWPU_RESISC45(root = \"/content/drive/My Drive/test.csv\",phase = 'test',transform = transform)\n",
        "testloader = DataLoader(testset,batch_size = batch_size, shuffle = True)"
      ],
      "execution_count": 0,
      "outputs": []
    },
    {
      "cell_type": "markdown",
      "metadata": {
        "id": "WLZ9oIdG2Y0K",
        "colab_type": "text"
      },
      "source": [
        "**VGGNET**"
      ]
    },
    {
      "cell_type": "code",
      "metadata": {
        "id": "yH18qYB72a9k",
        "colab_type": "code",
        "colab": {}
      },
      "source": [
        "class Net(nn.Module) :\n",
        "  def __init__(self):\n",
        "    super(Net,self).__init__()\n",
        "    self.conv = nn.Sequential(\n",
        "        #3 224 224\n",
        "        nn.Conv2d(3,64,3,padding = 1),nn.ReLU(),\n",
        "        nn.Conv2d(64,64,3,padding = 1),nn.ReLU(),\n",
        "        nn.MaxPool2d(2,2),\n",
        "        #64 112 112\n",
        "        nn.Conv2d(64, 128, 3, padding=1),nn.LeakyReLU(0.2),\n",
        "        nn.Conv2d(128, 128, 3, padding=1),nn.LeakyReLU(0.2),\n",
        "        nn.MaxPool2d(2, 2),\n",
        "        #128 56 56\n",
        "        nn.Conv2d(128, 256, 3, padding=1),nn.LeakyReLU(0.2),\n",
        "        nn.Conv2d(256, 256, 3, padding=1),nn.LeakyReLU(0.2),\n",
        "        nn.Conv2d(256, 256, 3, padding=1),nn.LeakyReLU(0.2),\n",
        "        nn.MaxPool2d(2, 2),\n",
        "        #256 28 28\n",
        "        nn.Conv2d(256, 512, 3, padding=1),nn.LeakyReLU(0.2),\n",
        "        nn.Conv2d(512, 512, 3, padding=1),nn.LeakyReLU(0.2),\n",
        "        nn.Conv2d(512, 512, 3, padding=1),nn.LeakyReLU(0.2),\n",
        "        nn.MaxPool2d(2, 2),\n",
        "        #512 14 14\n",
        "        nn.Conv2d(512, 512, 3, padding=1),nn.LeakyReLU(0.2),\n",
        "        nn.Conv2d(512, 512, 3, padding=1),nn.LeakyReLU(0.2),\n",
        "        nn.Conv2d(512, 512, 3, padding=1),nn.LeakyReLU(0.2),\n",
        "        nn.MaxPool2d(2, 2)\n",
        "    )\n",
        "    self.linear = nn.Sequential(\n",
        "        nn.Linear(512 * 7 * 7,4096),\n",
        "        nn.Linear(4096,4096),\n",
        "        nn.Linear(4096,45)\n",
        "    )\n",
        "  def forward(self,x):\n",
        "    features = self.conv(x)\n",
        "    x = x.view(features.size(0),-1)\n",
        "    x = self.linear(x)\n",
        "    return x\n",
        "#cuda사용 가능하면 gpu사용, 아니면 cpu로 연산\n",
        "device = torch.device(\"cuda:0\" if torch.cuda.is_available() else \"cpu\")\n",
        "\n",
        "net = Net()\n",
        "net = net.cuda()"
      ],
      "execution_count": 0,
      "outputs": []
    },
    {
      "cell_type": "markdown",
      "metadata": {
        "id": "Mgm6CK9spsLH",
        "colab_type": "text"
      },
      "source": [
        "**optimizer and loss function**"
      ]
    },
    {
      "cell_type": "code",
      "metadata": {
        "id": "-W5W7QLspuGy",
        "colab_type": "code",
        "colab": {}
      },
      "source": [
        "criterion = nn.CrossEntropyLoss().cuda()\n",
        "optimizer = optim.Adam(net.parameters(),lr = 0.00001)"
      ],
      "execution_count": 0,
      "outputs": []
    },
    {
      "cell_type": "markdown",
      "metadata": {
        "id": "_ONKWyQAvywH",
        "colab_type": "text"
      },
      "source": [
        "**Train and Validation**"
      ]
    },
    {
      "cell_type": "code",
      "metadata": {
        "id": "uhWxoeslv1GS",
        "colab_type": "code",
        "colab": {}
      },
      "source": [
        "for epoch in range(100):\n",
        "  running_loss = 0.0\n",
        "  for i,data in enumerate(trainloader , 0):\n",
        "    inputs,labels = data\n",
        "    inputs = inputs.cuda()\n",
        "    #labels = labels.cuda()\n",
        "    optimizer.zero_grad()\n",
        "    outputs = net(inputs)\n",
        "    loss = criterion(outputs,labels)\n",
        "    loss.backward()\n",
        "    optimizer.step()\n",
        "    running_loss += loss.item()\n",
        "    if i % 50 == 49:    # print every 2000 mini-batches\n",
        "            print('[%d, %5d] loss: %.3f' %\n",
        "                  (epoch + 1, i + 1, running_loss / 50))\n",
        "            running_loss = 0.0\n",
        "    \n",
        "class_correct = list(0. for i in range(45))\n",
        "class_total = list(0. for i in range(45))\n",
        "with torch.no_grad():\n",
        "    for data in testloader:\n",
        "        images, labels = data\n",
        "        images = images.cuda()\n",
        "        labels = labels.cuda()\n",
        "        outputs,_ = net(images)\n",
        "        _, predicted = torch.max(outputs, 1)\n",
        "        c = (predicted == labels).squeeze()\n",
        "        for i in range(4):\n",
        "            label = labels[i]\n",
        "            class_correct[label] += c[i].item()\n",
        "            class_total[label] += 1 \n",
        "\n",
        "for i in range(10):\n",
        "    print('Accuracy of %5s : %2d %%' % (\n",
        "        classes[i], 100 * class_correct[i] / class_total[i]))"
      ],
      "execution_count": 0,
      "outputs": []
    },
    {
      "cell_type": "code",
      "metadata": {
        "id": "V8HEitVqDc2u",
        "colab_type": "code",
        "colab": {}
      },
      "source": [
        ""
      ],
      "execution_count": 0,
      "outputs": []
    }
  ]
}