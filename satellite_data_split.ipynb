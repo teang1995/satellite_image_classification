{
  "nbformat": 4,
  "nbformat_minor": 0,
  "metadata": {
    "colab": {
      "name": "satellite_data_split.ipynb",
      "provenance": [],
      "collapsed_sections": [],
      "authorship_tag": "ABX9TyNxHhjoF0dny/Fm6bj/g836",
      "include_colab_link": true
    },
    "kernelspec": {
      "name": "python3",
      "display_name": "Python 3"
    }
  },
  "cells": [
    {
      "cell_type": "markdown",
      "metadata": {
        "id": "view-in-github",
        "colab_type": "text"
      },
      "source": [
        "<a href=\"https://colab.research.google.com/github/teang1995/satellite_image_classification/blob/master/satellite_data_split.ipynb\" target=\"_parent\"><img src=\"https://colab.research.google.com/assets/colab-badge.svg\" alt=\"Open In Colab\"/></a>"
      ]
    },
    {
      "cell_type": "markdown",
      "metadata": {
        "id": "RDdXJvoWpXc6",
        "colab_type": "text"
      },
      "source": [
        "**Dataset Split**\n",
        "\n",
        "\n",
        "데이터셋을 split해주려 한다.\n",
        "\n",
        "클래스 당 700장인 데이터셋을\n",
        "\n",
        "\n",
        "\n",
        "1. Train Set : 560장\n",
        "2. Validation Set : 140장\n",
        "3. Test Set : 140장\n",
        "\n",
        "으로 나눈다.\n"
      ]
    },
    {
      "cell_type": "code",
      "metadata": {
        "id": "1a6R3M8NiCgd",
        "colab_type": "code",
        "outputId": "5b1d2d61-a42e-4b89-9287-ae9b41d59989",
        "colab": {
          "base_uri": "https://localhost:8080/",
          "height": 127
        }
      },
      "source": [
        "from google.colab import drive\n",
        "drive.mount('/content/drive')"
      ],
      "execution_count": 2,
      "outputs": [
        {
          "output_type": "stream",
          "text": [
            "Go to this URL in a browser: https://accounts.google.com/o/oauth2/auth?client_id=947318989803-6bn6qk8qdgf4n4g3pfee6491hc0brc4i.apps.googleusercontent.com&redirect_uri=urn%3aietf%3awg%3aoauth%3a2.0%3aoob&response_type=code&scope=email%20https%3a%2f%2fwww.googleapis.com%2fauth%2fdocs.test%20https%3a%2f%2fwww.googleapis.com%2fauth%2fdrive%20https%3a%2f%2fwww.googleapis.com%2fauth%2fdrive.photos.readonly%20https%3a%2f%2fwww.googleapis.com%2fauth%2fpeopleapi.readonly\n",
            "\n",
            "Enter your authorization code:\n",
            "··········\n",
            "Mounted at /content/drive\n"
          ],
          "name": "stdout"
        }
      ]
    },
    {
      "cell_type": "markdown",
      "metadata": {
        "id": "U2zZXqayiQf5",
        "colab_type": "text"
      },
      "source": [
        "**import libraries**"
      ]
    },
    {
      "cell_type": "code",
      "metadata": {
        "id": "U_mISEd-iQAq",
        "colab_type": "code",
        "colab": {}
      },
      "source": [
        "import os\n",
        "import shutil"
      ],
      "execution_count": 0,
      "outputs": []
    },
    {
      "cell_type": "markdown",
      "metadata": {
        "id": "mO3bFXjo3ZXd",
        "colab_type": "text"
      },
      "source": [
        "**make directories and move files**\n",
        "\n",
        "1.   각 class명의 폴더 안에 Train,Validation,Test 폴더를 만든다.\n",
        "2.   1-560, 561-630, 631-700의 사진을 각각 Train,Validation,Test 폴더에 옮긴다.\n",
        "3.   이 과정을 모든 class에 대해 시행한다.\n",
        "\n",
        "\n"
      ]
    },
    {
      "cell_type": "code",
      "metadata": {
        "id": "GivinZxszIfE",
        "colab_type": "code",
        "outputId": "a1e12eeb-4982-42f1-bc15-767449d75139",
        "colab": {
          "base_uri": "https://localhost:8080/",
          "height": 55
        }
      },
      "source": [
        "#folder of datasets\n",
        "path = \"/content/drive/My Drive/NWPU-RESISC45\"\n",
        "os.chdir(path)\n",
        "count = 0\n",
        "#클래스명이 담긴 리스트를 만든다.\n",
        "folder_name_list = os.listdir(path)\n",
        "print(folder_name_list)\n",
        "for name in folder_name_list :\n",
        "  #작업공간의 경로를 만들어준다.\n",
        "  temp_path = path + \"/\" + name \n",
        "  #작업공간을 클래스의 폴더로 변경한다.\n",
        "  #for copy check\n",
        "  '''\n",
        "  print(str(count) , os.listdir(temp_path))\n",
        "  count += 1\n",
        "  '''\n",
        "  #Train에 560장, Validation에 70장, Test에 70장\n",
        "  for i in range(1,561) :\n",
        "    if os.path.exists(name + \"_\" +'{:03}'.format(i) + \".jpg\"):\n",
        "      shutil.move(name + \"_\" +'{:03}'.format(i) + \".jpg\" , \"Train\")\n",
        "  for i in range(561,631) :\n",
        "    if os.path.exists(name + \"_\" +'{:03}'.format(i) + \".jpg\"):\n",
        "      shutil.move(name + \"_\" +'{:03}'.format(i) + \".jpg\" , \"Validation\")\n",
        "  for i in range(631,701) :\n",
        "    if os.path.exists(name + \"_\" +'{:03}'.format(i) + \".jpg\"):\n",
        "      shutil.move(name + \"_\" +'{:03}'.format(i) + \".jpg\" , \"Test\")"
      ],
      "execution_count": 7,
      "outputs": [
        {
          "output_type": "stream",
          "text": [
            "['ship', 'sparse_residential', 'wetland', 'stadium', 'terrace', 'snowberg', 'storage_tank', 'thermal_power_station', 'tennis_court', 'sea_ice', 'palace', 'river', 'railway', 'overpass', 'railway_station', 'runway', 'mountain', 'rectangular_farmland', 'roundabout', 'parking_lot', 'industrial_area', 'island', 'ground_track_field', 'medium_residential', 'meadow', 'lake', 'golf_course', 'harbor', 'intersection', 'mobile_home_park', 'forest', 'dense_residential', 'desert', 'commercial_area', 'chaparral', 'circular_farmland', 'bridge', 'freeway', 'cloud', 'church', 'airplane', 'baseball_diamond', 'basketball_court', 'beach', 'airport']\n"
          ],
          "name": "stdout"
        }
      ]
    }
  ]
}