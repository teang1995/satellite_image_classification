{
  "nbformat": 4,
  "nbformat_minor": 0,
  "metadata": {
    "colab": {
      "name": "satellite_data_split.ipynb",
      "provenance": [],
      "collapsed_sections": [],
      "authorship_tag": "ABX9TyMn9Xmux5pvd/ApPiaJDUNV",
      "include_colab_link": true
    },
    "kernelspec": {
      "name": "python3",
      "display_name": "Python 3"
    }
  },
  "cells": [
    {
      "cell_type": "markdown",
      "metadata": {
        "id": "view-in-github",
        "colab_type": "text"
      },
      "source": [
        "<a href=\"https://colab.research.google.com/github/teang1995/satellite_image_classification/blob/master/satellite_data_split.ipynb\" target=\"_parent\"><img src=\"https://colab.research.google.com/assets/colab-badge.svg\" alt=\"Open In Colab\"/></a>"
      ]
    },
    {
      "cell_type": "markdown",
      "metadata": {
        "id": "RDdXJvoWpXc6",
        "colab_type": "text"
      },
      "source": [
        "**Dataset Split**\n",
        "\n",
        "\n",
        "데이터셋을 split해주려 한다.\n",
        "\n",
        "클래스 당 700장인 데이터셋을\n",
        "\n",
        "\n",
        "\n",
        "1. Train Set : 560장\n",
        "2. Validation Set : 140장\n",
        "3. Test Set : 140장\n",
        "\n",
        "으로 나눈다.\n"
      ]
    },
    {
      "cell_type": "code",
      "metadata": {
        "id": "1a6R3M8NiCgd",
        "colab_type": "code",
        "outputId": "0323771d-8581-42df-dfce-2790511fffbc",
        "colab": {
          "base_uri": "https://localhost:8080/",
          "height": 55
        }
      },
      "source": [
        "from google.colab import drive\n",
        "drive.mount('/content/drive')"
      ],
      "execution_count": 0,
      "outputs": [
        {
          "output_type": "stream",
          "text": [
            "Drive already mounted at /content/drive; to attempt to forcibly remount, call drive.mount(\"/content/drive\", force_remount=True).\n"
          ],
          "name": "stdout"
        }
      ]
    },
    {
      "cell_type": "markdown",
      "metadata": {
        "id": "U2zZXqayiQf5",
        "colab_type": "text"
      },
      "source": [
        "**import libraries**"
      ]
    },
    {
      "cell_type": "code",
      "metadata": {
        "id": "U_mISEd-iQAq",
        "colab_type": "code",
        "colab": {}
      },
      "source": [
        "import os\n",
        "import shutil"
      ],
      "execution_count": 0,
      "outputs": []
    },
    {
      "cell_type": "markdown",
      "metadata": {
        "id": "mO3bFXjo3ZXd",
        "colab_type": "text"
      },
      "source": [
        "**make directories and move files**\n",
        "\n",
        "1.   각 class명의 폴더 안에 Train,Validation,Test 폴더를 만든다.\n",
        "2.   1-560, 561-630, 631-700의 사진을 각각 Train,Validation,Test 폴더에 옮긴다.\n",
        "3.   이 과정을 모든 class에 대해 시행한다.\n",
        "\n",
        "\n"
      ]
    },
    {
      "cell_type": "code",
      "metadata": {
        "id": "GivinZxszIfE",
        "colab_type": "code",
        "colab": {}
      },
      "source": [
        "#folder of datasets\n",
        "path = \"/content/drive/My Drive/NWPU-RESISC45\"\n",
        "os.chdir(path)\n",
        "#클래스명이 담긴 리스트를 만든다.\n",
        "folder_name_list = os.listdir(path)\n",
        "for name in folder_name_list :\n",
        "  if name == \"wetland\" :\n",
        "    continue\n",
        "  #작업공간의 경로를 만들어준다.\n",
        "  temp_path = path + \"/\" + name \n",
        "  #작업공간을 클래스의 폴더로 변경한다.\n",
        "  os.chdir(temp_path)\n",
        "  #Train,Validation,Test 폴더를 만든다.\n",
        "  #os.makedirs(\"Train\")\n",
        "  #os.makedirs(\"Validation\")\n",
        "  #os.makedirs(\"Test\")\n",
        "  for i in range(1,561) :\n",
        "    shutil.move(name + \"_\" +'{:03}'.format(i) + \".jpg\" , \"Train\")\n",
        "  for i in range(561,631) :\n",
        "    shutil.move(name + \"_\" +'{:03}'.format(i) + \".jpg\" , \"Validation\")\n",
        "  for i in range(631,701) :\n",
        "    shutil.move(name + \"_\" +'{:03}'.format(i) + \".jpg\" , \"Test\")"
      ],
      "execution_count": 0,
      "outputs": []
    }
  ]
}