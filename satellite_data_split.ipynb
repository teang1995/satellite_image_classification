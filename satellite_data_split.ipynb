{
  "nbformat": 4,
  "nbformat_minor": 0,
  "metadata": {
    "colab": {
      "name": "satellite_data_split.ipynb",
      "provenance": [],
      "collapsed_sections": [],
      "authorship_tag": "ABX9TyN+4ztBnhL3MTWlsJfbRI7n",
      "include_colab_link": true
    },
    "kernelspec": {
      "name": "python3",
      "display_name": "Python 3"
    }
  },
  "cells": [
    {
      "cell_type": "markdown",
      "metadata": {
        "id": "view-in-github",
        "colab_type": "text"
      },
      "source": [
        "<a href=\"https://colab.research.google.com/github/teang1995/satellite_image_classification/blob/master/satellite_data_split.ipynb\" target=\"_parent\"><img src=\"https://colab.research.google.com/assets/colab-badge.svg\" alt=\"Open In Colab\"/></a>"
      ]
    },
    {
      "cell_type": "markdown",
      "metadata": {
        "id": "RDdXJvoWpXc6",
        "colab_type": "text"
      },
      "source": [
        "**Dataset Split**\n",
        "\n",
        "\n",
        "데이터셋을 split해주려 한다.\n",
        "\n",
        "클래스 당 700장인 데이터셋을\n",
        "\n",
        "\n",
        "\n",
        "1. Train Set : 560장\n",
        "2. Validation Set : 140장\n",
        "3. Test Set : 140장\n",
        "\n",
        "으로 나눈다.\n"
      ]
    },
    {
      "cell_type": "code",
      "metadata": {
        "id": "1a6R3M8NiCgd",
        "colab_type": "code",
        "outputId": "44445d0f-c4a8-418d-ec84-2e6fe7843079",
        "colab": {
          "base_uri": "https://localhost:8080/",
          "height": 35
        }
      },
      "source": [
        "from google.colab import drive\n",
        "drive.mount('/content/drive')"
      ],
      "execution_count": 8,
      "outputs": [
        {
          "output_type": "stream",
          "text": [
            "Drive already mounted at /content/drive; to attempt to forcibly remount, call drive.mount(\"/content/drive\", force_remount=True).\n"
          ],
          "name": "stdout"
        }
      ]
    },
    {
      "cell_type": "markdown",
      "metadata": {
        "id": "U2zZXqayiQf5",
        "colab_type": "text"
      },
      "source": [
        "**import libraries**"
      ]
    },
    {
      "cell_type": "code",
      "metadata": {
        "id": "U_mISEd-iQAq",
        "colab_type": "code",
        "colab": {}
      },
      "source": [
        "import os\n",
        "import shutil"
      ],
      "execution_count": 0,
      "outputs": []
    },
    {
      "cell_type": "markdown",
      "metadata": {
        "id": "mO3bFXjo3ZXd",
        "colab_type": "text"
      },
      "source": [
        "**make directories and move files**\n",
        "\n",
        "1.   각 class명의 폴더 안에 Train,Validation,Test 폴더를 만든다.\n",
        "2.   1-560, 561-630, 631-700의 사진을 각각 Train,Validation,Test 폴더에 옮긴다.\n",
        "3.   이 과정을 모든 class에 대해 시행한다.\n",
        "\n",
        "\n"
      ]
    },
    {
      "cell_type": "code",
      "metadata": {
        "id": "q5f9eaTwEm1V",
        "colab_type": "code",
        "outputId": "ff22a9a0-4565-4e84-a8cd-9bc947d4a10e",
        "colab": {
          "base_uri": "https://localhost:8080/",
          "height": 71
        }
      },
      "source": [
        "path = \"/content/drive/My Drive/dataset\"\n",
        "folder_name_list = os.listdir(path)\n",
        "print(len(os.listdir(path + \"/Train\")))\n",
        "print(len(os.listdir(path + \"/Test\")))\n",
        "print(len(os.listdir(path + \"/Validation\")))"
      ],
      "execution_count": 18,
      "outputs": [
        {
          "output_type": "stream",
          "text": [
            "25200\n",
            "3150\n",
            "3150\n"
          ],
          "name": "stdout"
        }
      ]
    },
    {
      "cell_type": "code",
      "metadata": {
        "id": "GivinZxszIfE",
        "colab_type": "code",
        "colab": {}
      },
      "source": [
        "#folder of datasets\n",
        "path = \"/content/drive/My Drive/NWPU-RESISC45\"\n",
        "save_path = \"/content/drive/My Drive/dataset\"\n",
        "os.chdir(path)\n",
        "#클래스명이 담긴 리스트를 만든다.\n",
        "folder_name_list = os.listdir(path)\n",
        "for name in folder_name_list :\n",
        "  #temp_path 만들어 데이터 가져올 폴더 경로 작성\n",
        "  temp_path = path + \"/\" + name \n",
        "  #작업 경로 설정\n",
        "  os.chdir(temp_path)\n",
        "  #Train에 560장, Validation에 70장, Test에 70장\n",
        "  for i in range(1,561) :\n",
        "    shutil.move(name + \"_\" +'{:03}'.format(i) + \".jpg\" , save_path + \"/Train\")\n",
        "  for i in range(561,631) :\n",
        "    shutil.move(name + \"_\" +'{:03}'.format(i) + \".jpg\" , save_path + \"/Validation\")\n",
        "  for i in range(631,701) :\n",
        "    shutil.move(name + \"_\" +'{:03}'.format(i) + \".jpg\" , save_path + \"/Test\")"
      ],
      "execution_count": 0,
      "outputs": []
    }
  ]
}